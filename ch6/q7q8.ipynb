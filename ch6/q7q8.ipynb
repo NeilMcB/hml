{
 "cells": [
  {
   "cell_type": "code",
   "execution_count": null,
   "id": "following-cookbook",
   "metadata": {},
   "outputs": [],
   "source": [
    "import matplotlib.pyplot as plt\n",
    "import numpy as np\n",
    "from scipy.stats import mode\n",
    "from sklearn.base import clone\n",
    "from sklearn.datasets import make_moons\n",
    "from sklearn.metrics import accuracy_score\n",
    "from sklearn.model_selection import GridSearchCV, train_test_split, ShuffleSplit\n",
    "from sklearn.tree import DecisionTreeClassifier"
   ]
  },
  {
   "cell_type": "code",
   "execution_count": null,
   "id": "sufficient-observation",
   "metadata": {},
   "outputs": [],
   "source": [
    "X, y = make_moons(n_samples=10_000, noise=0.4)\n",
    "X_train, X_test, y_train, y_test = train_test_split(X, y, test_size=0.2)"
   ]
  },
  {
   "cell_type": "code",
   "execution_count": null,
   "id": "infinite-doctrine",
   "metadata": {},
   "outputs": [],
   "source": [
    "plt.scatter(X[:,0], X[:,1], c=y)"
   ]
  },
  {
   "cell_type": "markdown",
   "id": "emotional-creek",
   "metadata": {},
   "source": [
    "# Single Tree"
   ]
  },
  {
   "cell_type": "code",
   "execution_count": null,
   "id": "royal-interview",
   "metadata": {},
   "outputs": [],
   "source": [
    "models = GridSearchCV(\n",
    "    DecisionTreeClassifier(),\n",
    "    {\n",
    "        'max_depth': [3, 10, 30],\n",
    "        'max_leaf_nodes': [3, 10, 30, 100],\n",
    "    },\n",
    "    scoring='accuracy',\n",
    "    n_jobs=-1,\n",
    "    cv=5,\n",
    ")"
   ]
  },
  {
   "cell_type": "code",
   "execution_count": null,
   "id": "usual-subcommittee",
   "metadata": {},
   "outputs": [],
   "source": [
    "models.fit(X_train, y_train)"
   ]
  },
  {
   "cell_type": "code",
   "execution_count": null,
   "id": "appropriate-trance",
   "metadata": {},
   "outputs": [],
   "source": [
    "model = models.best_estimator_\n",
    "model.fit(X_train, y_train)"
   ]
  },
  {
   "cell_type": "code",
   "execution_count": null,
   "id": "moral-beginning",
   "metadata": {},
   "outputs": [],
   "source": [
    "accuracy_score(model.predict(X_test), y_test)"
   ]
  },
  {
   "cell_type": "markdown",
   "id": "biblical-thing",
   "metadata": {},
   "source": [
    "# Big ol' forest"
   ]
  },
  {
   "cell_type": "code",
   "execution_count": null,
   "id": "handmade-livestock",
   "metadata": {},
   "outputs": [],
   "source": [
    "shuffle_split = ShuffleSplit(n_splits=1000, train_size=100)\n",
    "\n",
    "ensemble = []\n",
    "test_scores = []\n",
    "test_predictions = []\n",
    "for idxs, _ in shuffle_split.split(X_train):\n",
    "    ensemble_model = clone(models.best_estimator_)\n",
    "    ensemble_model.fit(X_train[idxs,:], y_train[idxs])\n",
    "    ensemble.append(ensemble_model)\n",
    "    \n",
    "    ensemble_model_predictions = ensemble_model.predict(X_test)\n",
    "    \n",
    "    test_scores.append(accuracy_score(ensemble_model_predictions, y_test))\n",
    "    test_predictions.append(ensemble_model_predictions)"
   ]
  },
  {
   "cell_type": "code",
   "execution_count": null,
   "id": "operational-profession",
   "metadata": {},
   "outputs": [],
   "source": [
    "test_majority_vote = mode(np.stack(test_predictions)).mode[0,:]"
   ]
  },
  {
   "cell_type": "code",
   "execution_count": null,
   "id": "entire-climb",
   "metadata": {},
   "outputs": [],
   "source": [
    "print(f'Average test score: {sum(test_scores)/len(test_scores):.2f}')\n",
    "print(f'Ensemble test score: {accuracy_score(test_majority_vote, y_test):.2f}')"
   ]
  },
  {
   "cell_type": "code",
   "execution_count": null,
   "id": "discrete-joseph",
   "metadata": {},
   "outputs": [],
   "source": []
  }
 ],
 "metadata": {
  "kernelspec": {
   "display_name": "Python 3",
   "language": "python",
   "name": "python3"
  },
  "language_info": {
   "codemirror_mode": {
    "name": "ipython",
    "version": 3
   },
   "file_extension": ".py",
   "mimetype": "text/x-python",
   "name": "python",
   "nbconvert_exporter": "python",
   "pygments_lexer": "ipython3",
   "version": "3.8.5"
  }
 },
 "nbformat": 4,
 "nbformat_minor": 5
}
