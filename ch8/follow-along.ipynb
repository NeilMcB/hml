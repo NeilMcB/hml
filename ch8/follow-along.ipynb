{
 "cells": [
  {
   "cell_type": "code",
   "execution_count": null,
   "id": "demographic-chance",
   "metadata": {},
   "outputs": [],
   "source": [
    "import matplotlib.pyplot as plt\n",
    "from sklearn.datasets import fetch_openml, make_swiss_roll\n",
    "from sklearn.decomposition import PCA\n",
    "from sklearn.manifold import LocallyLinearEmbedding"
   ]
  },
  {
   "cell_type": "code",
   "execution_count": null,
   "id": "public-drive",
   "metadata": {},
   "outputs": [],
   "source": [
    "X, _ = fetch_openml('mnist_784', version=1, return_X_y=True)\n",
    "X = X.values"
   ]
  },
  {
   "cell_type": "code",
   "execution_count": null,
   "id": "historical-seminar",
   "metadata": {},
   "outputs": [],
   "source": [
    "pca = PCA(n_components=144)\n",
    "X_compressed = pca.fit_transform(X)\n",
    "X_reconstructed = pca.inverse_transform(X_compressed)"
   ]
  },
  {
   "cell_type": "code",
   "execution_count": null,
   "id": "reflected-hunter",
   "metadata": {},
   "outputs": [],
   "source": [
    "fig, axs = plt.subplots(1,3)\n",
    "\n",
    "axs[0].imshow(X[0,:].reshape(28,28), cmap='binary')\n",
    "axs[1].imshow(X_compressed[0,:].reshape(12,12), cmap='binary')\n",
    "axs[2].imshow(X_reconstructed[0,:].reshape(28,28), cmap='binary')"
   ]
  },
  {
   "cell_type": "code",
   "execution_count": null,
   "id": "micro-chambers",
   "metadata": {},
   "outputs": [],
   "source": [
    "X, t = make_swiss_roll(n_samples=1000)\n",
    "\n",
    "lle = LocallyLinearEmbedding(n_neighbors=10)\n",
    "X_2d = lle.fit_transform(X)"
   ]
  },
  {
   "cell_type": "code",
   "execution_count": null,
   "id": "departmental-library",
   "metadata": {},
   "outputs": [],
   "source": [
    "fig = plt.figure(figsize=(12,6))\n",
    "ax_sr = fig.add_subplot(121, projection='3d')\n",
    "ax_lle = fig.add_subplot(122)\n",
    "\n",
    "ax_sr.scatter(X[:,0], X[:,1], X[:,2], c=t)\n",
    "ax_lle.scatter(X_2d[:,0], X_2d[:,1], c=t)"
   ]
  },
  {
   "cell_type": "code",
   "execution_count": null,
   "id": "surprised-mason",
   "metadata": {},
   "outputs": [],
   "source": []
  }
 ],
 "metadata": {
  "kernelspec": {
   "display_name": "Python 3",
   "language": "python",
   "name": "python3"
  },
  "language_info": {
   "codemirror_mode": {
    "name": "ipython",
    "version": 3
   },
   "file_extension": ".py",
   "mimetype": "text/x-python",
   "name": "python",
   "nbconvert_exporter": "python",
   "pygments_lexer": "ipython3",
   "version": "3.8.5"
  }
 },
 "nbformat": 4,
 "nbformat_minor": 5
}
