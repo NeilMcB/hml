{
 "cells": [
  {
   "cell_type": "code",
   "execution_count": null,
   "id": "native-multiple",
   "metadata": {},
   "outputs": [],
   "source": [
    "from sklearn.datasets import fetch_openml\n",
    "from sklearn.decomposition import PCA\n",
    "from sklearn.ensemble import RandomForestClassifier\n",
    "from sklearn.metrics import accuracy_score\n",
    "from sklearn.model_selection import train_test_split\n",
    "from sklearn.pipeline import Pipeline"
   ]
  },
  {
   "cell_type": "code",
   "execution_count": null,
   "id": "reasonable-triumph",
   "metadata": {},
   "outputs": [],
   "source": [
    "X, y = fetch_openml('mnist_784', version=1, return_X_y=True)"
   ]
  },
  {
   "cell_type": "code",
   "execution_count": null,
   "id": "proprietary-helena",
   "metadata": {},
   "outputs": [],
   "source": [
    "X_train, X_test, y_train, y_test = train_test_split(X, y, train_size=60_000)"
   ]
  },
  {
   "cell_type": "code",
   "execution_count": null,
   "id": "compliant-stopping",
   "metadata": {},
   "outputs": [],
   "source": [
    "pipeline_A = Pipeline([\n",
    "    ('model', RandomForestClassifier()),\n",
    "])\n",
    "\n",
    "pipeline_B = Pipeline([\n",
    "    ('pca', PCA(n_components=0.95)),\n",
    "    ('model', RandomForestClassifier()),\n",
    "])"
   ]
  },
  {
   "cell_type": "code",
   "execution_count": null,
   "id": "synthetic-birth",
   "metadata": {},
   "outputs": [],
   "source": [
    "tic = datetime.now()\n",
    "pipeline_A.fit(X_train, y_train)\n",
    "toc = datetime.now()\n",
    "print(f'Elapsed time A: {toc - tic}')\n",
    "\n",
    "tic = datetime.now()\n",
    "pipeline_B.fit(X_train, y_train)\n",
    "toc = datetime.now()\n",
    "print(f'Elapsed time B: {toc - tic}')"
   ]
  },
  {
   "cell_type": "code",
   "execution_count": null,
   "id": "protected-command",
   "metadata": {},
   "outputs": [],
   "source": [
    "print(f'Accuracy A: {accuracy_score(pipeline_A.predict(X_test), y_test):.2f}')\n",
    "print(f'Accuracy B: {accuracy_score(pipeline_B.predict(X_test), y_test):.2f}')"
   ]
  }
 ],
 "metadata": {
  "kernelspec": {
   "display_name": "Python 3",
   "language": "python",
   "name": "python3"
  },
  "language_info": {
   "codemirror_mode": {
    "name": "ipython",
    "version": 3
   },
   "file_extension": ".py",
   "mimetype": "text/x-python",
   "name": "python",
   "nbconvert_exporter": "python",
   "pygments_lexer": "ipython3",
   "version": "3.8.5"
  }
 },
 "nbformat": 4,
 "nbformat_minor": 5
}
