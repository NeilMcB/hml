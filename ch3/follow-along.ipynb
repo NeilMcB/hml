{
 "cells": [
  {
   "cell_type": "code",
   "execution_count": null,
   "id": "disciplinary-tribe",
   "metadata": {},
   "outputs": [],
   "source": [
    "import matplotlib.pyplot as plt\n",
    "import numpy as np\n",
    "from sklearn.base import BaseEstimator\n",
    "from sklearn.datasets import fetch_openml\n",
    "from sklearn.ensemble import RandomForestClassifier\n",
    "from sklearn.metrics import confusion_matrix\n",
    "from sklearn.model_selection import cross_val_predict, cross_val_score\n",
    "from sklearn.neighbors import KNeighborsClassifier\n",
    "from sklearn.preprocessing import StandardScaler"
   ]
  },
  {
   "cell_type": "code",
   "execution_count": null,
   "id": "systematic-springfield",
   "metadata": {},
   "outputs": [],
   "source": [
    "SEED = 51"
   ]
  },
  {
   "cell_type": "code",
   "execution_count": null,
   "id": "transparent-pricing",
   "metadata": {},
   "outputs": [],
   "source": [
    "mnist = fetch_openml('mnist_784', version=1)"
   ]
  },
  {
   "cell_type": "code",
   "execution_count": null,
   "id": "universal-paste",
   "metadata": {},
   "outputs": [],
   "source": [
    "X, y = mnist.data, mnist.target\n",
    "y = y.astype(np.uint8)\n",
    "\n",
    "X_train, X_test = X[:60_000], X[60_000:]\n",
    "y_train, y_test = y[:60_000], y[60_000:]"
   ]
  },
  {
   "cell_type": "code",
   "execution_count": null,
   "id": "jewish-yemen",
   "metadata": {},
   "outputs": [],
   "source": [
    "plt.imshow(X.iloc[0].values.reshape(28,28), cmap='binary')\n",
    "plt.title(f'Example of digit {y[0]}')\n",
    "plt.axis('off')\n",
    "plt.show()"
   ]
  },
  {
   "cell_type": "code",
   "execution_count": null,
   "id": "swedish-action",
   "metadata": {},
   "outputs": [],
   "source": [
    "model = RandomForestClassifier(random_state=SEED, n_jobs=-1)\n",
    "model.fit(X_train, y_train)"
   ]
  },
  {
   "cell_type": "code",
   "execution_count": null,
   "id": "latter-agreement",
   "metadata": {},
   "outputs": [],
   "source": [
    "y_train_predictions = cross_val_predict(model, X_train, y_train, cv=3)"
   ]
  },
  {
   "cell_type": "code",
   "execution_count": null,
   "id": "desirable-lawyer",
   "metadata": {},
   "outputs": [],
   "source": [
    "cross_val_score(model, X_train, y_train, cv=3)"
   ]
  },
  {
   "cell_type": "code",
   "execution_count": null,
   "id": "crazy-energy",
   "metadata": {},
   "outputs": [],
   "source": [
    "standard_scaler = StandardScaler()\n",
    "X_train_scaled = standard_scaler.fit_transform(X_train)\n",
    "cross_val_score(model, X_train_scaled, y_train, cv=3)"
   ]
  },
  {
   "cell_type": "code",
   "execution_count": null,
   "id": "invisible-honey",
   "metadata": {},
   "outputs": [],
   "source": [
    "train_confusion_matrix = confusion_matrix(y_train, y_train_predictions)\n",
    "plt.matshow(train_confusion_matrix)\n",
    "plt.show()"
   ]
  },
  {
   "cell_type": "code",
   "execution_count": null,
   "id": "subtle-fleece",
   "metadata": {},
   "outputs": [],
   "source": [
    "train_class_counts = train_confusion_matrix.sum(axis=1, keepdims=True)\n",
    "normalised_train_confusion_matrix = train_confusion_matrix / train_class_counts\n",
    "np.fill_diagonal(normalised_train_confusion_matrix, 0)\n",
    "\n",
    "plt.matshow(normalised_train_confusion_matrix)\n",
    "plt.show()"
   ]
  },
  {
   "cell_type": "markdown",
   "id": "dress-genius",
   "metadata": {},
   "source": [
    "# Denoising numbers"
   ]
  },
  {
   "cell_type": "code",
   "execution_count": null,
   "id": "formed-release",
   "metadata": {},
   "outputs": [],
   "source": [
    "X_train_noise = X_train.copy() + np.random.randint(0, 255, X_train.shape) % 255\n",
    "X_test_noise = X_test.copy() + np.random.randint(0, 255, X_test.shape) % 255\n",
    "\n",
    "y_train_noise = X_train.copy()\n",
    "y_test_noise = X_test.copy()"
   ]
  },
  {
   "cell_type": "code",
   "execution_count": null,
   "id": "conventional-ranking",
   "metadata": {},
   "outputs": [],
   "source": [
    "plt.imshow(X_train_noise.iloc[0].values.reshape(28,28), cmap='binary')\n",
    "plt.title('Example of noisy digit')\n",
    "plt.axis('off')\n",
    "plt.show()"
   ]
  },
  {
   "cell_type": "code",
   "execution_count": null,
   "id": "premier-phenomenon",
   "metadata": {},
   "outputs": [],
   "source": [
    "model = KNeighborsClassifier(n_jobs=-1)\n",
    "model.fit(X_train_noise, y_train_noise)"
   ]
  },
  {
   "cell_type": "code",
   "execution_count": null,
   "id": "pacific-determination",
   "metadata": {},
   "outputs": [],
   "source": [
    "noisy_digit_train = X_train_noise.iloc[0].values.reshape(28,28)\n",
    "denoised_digit_train = model.predict([X_train_noise.iloc[0]]).reshape(28,28)\n",
    "true_digit_train = y_train_noise.iloc[0].values.reshape(28,28)\n",
    "\n",
    "noisy_digit_test = X_test_noise.iloc[0].values.reshape(28,28)\n",
    "denoised_digit_test = model.predict([X_test_noise.iloc[0]]).reshape(28,28)\n",
    "true_digit_test = y_test_noise.iloc[0].values.reshape(28,28)\n",
    "\n",
    "fig, axs = plt.subplots(2, 3, figsize=(15,10))\n",
    "axs[0,0].imshow(noisy_digit_train, cmap='binary')\n",
    "axs[0,1].imshow(denoised_digit_train, cmap='binary')\n",
    "axs[0,2].imshow(true_digit_train, cmap='binary')\n",
    "axs[1,0].imshow(noisy_digit_test, cmap='binary')\n",
    "axs[1,1].imshow(denoised_digit_test, cmap='binary')\n",
    "axs[1,2].imshow(true_digit_test, cmap='binary')"
   ]
  },
  {
   "cell_type": "code",
   "execution_count": null,
   "id": "rough-shell",
   "metadata": {},
   "outputs": [],
   "source": []
  }
 ],
 "metadata": {
  "kernelspec": {
   "display_name": "Python 3",
   "language": "python",
   "name": "python3"
  },
  "language_info": {
   "codemirror_mode": {
    "name": "ipython",
    "version": 3
   },
   "file_extension": ".py",
   "mimetype": "text/x-python",
   "name": "python",
   "nbconvert_exporter": "python",
   "pygments_lexer": "ipython3",
   "version": "3.8.5"
  }
 },
 "nbformat": 4,
 "nbformat_minor": 5
}
