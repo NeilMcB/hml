{
 "cells": [
  {
   "cell_type": "code",
   "execution_count": null,
   "id": "armed-graham",
   "metadata": {},
   "outputs": [],
   "source": [
    "import matplotlib.pyplot as plt\n",
    "from sklearn.datasets import make_blobs\n",
    "from sklearn.linear_model import SGDClassifier\n",
    "from sklearn.svm import LinearSVC, SVC\n",
    "from sklearn.preprocessing import StandardScaler"
   ]
  },
  {
   "cell_type": "markdown",
   "id": "sufficient-stand",
   "metadata": {},
   "source": [
    "## Data"
   ]
  },
  {
   "cell_type": "code",
   "execution_count": null,
   "id": "orange-titanium",
   "metadata": {},
   "outputs": [],
   "source": [
    "X, y = make_blobs(n_samples=1_000, n_features=2, centers=2)\n",
    "X_std = StandardScaler().fit_transform(X)"
   ]
  },
  {
   "cell_type": "code",
   "execution_count": null,
   "id": "neither-education",
   "metadata": {},
   "outputs": [],
   "source": [
    "plt.scatter(X_std[:,0], X_std[:,1], c=y)"
   ]
  },
  {
   "cell_type": "markdown",
   "id": "animal-listening",
   "metadata": {},
   "source": [
    "## Model fitting"
   ]
  },
  {
   "cell_type": "code",
   "execution_count": null,
   "id": "geographic-storm",
   "metadata": {},
   "outputs": [],
   "source": [
    "models = {\n",
    "    'linear_svc': LinearSVC(),\n",
    "    'svc': SVC(kernel='linear'),\n",
    "    'sgd_classifier': SGDClassifier(),\n",
    "}\n",
    "\n",
    "for model in models:\n",
    "    models[model].fit(X, y)"
   ]
  },
  {
   "cell_type": "markdown",
   "id": "separated-europe",
   "metadata": {},
   "source": [
    "## Model analysis"
   ]
  },
  {
   "cell_type": "code",
   "execution_count": null,
   "id": "billion-conservative",
   "metadata": {},
   "outputs": [],
   "source": [
    "fig, axs = plt.subplots(1,3, figsize=(21,5), sharex=True, sharey=True)\n",
    "for i, model in enumerate(models):\n",
    "    coefs = models[model].coef_[0]\n",
    "    \n",
    "    x0_test = min(X[:,0])\n",
    "    x1_test = max(X[:,0])\n",
    "    \n",
    "    y0_test = -(coefs[0] / coefs[1]) * x0_test\n",
    "    y1_test = -(coefs[0] / coefs[1]) * x1_test\n",
    "    \n",
    "    axs[i].scatter(X[:,0], X[:,1], c=y)\n",
    "    axs[i].plot([x0_test, x1_test], [y0_test, y1_test])"
   ]
  }
 ],
 "metadata": {
  "kernelspec": {
   "display_name": "Python 3",
   "language": "python",
   "name": "python3"
  },
  "language_info": {
   "codemirror_mode": {
    "name": "ipython",
    "version": 3
   },
   "file_extension": ".py",
   "mimetype": "text/x-python",
   "name": "python",
   "nbconvert_exporter": "python",
   "pygments_lexer": "ipython3",
   "version": "3.8.5"
  }
 },
 "nbformat": 4,
 "nbformat_minor": 5
}
