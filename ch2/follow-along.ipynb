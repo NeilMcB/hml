{
 "cells": [
  {
   "cell_type": "code",
   "execution_count": null,
   "id": "studied-stick",
   "metadata": {},
   "outputs": [],
   "source": [
    "from pathlib import Path\n",
    "import os\n",
    "\n",
    "import cartopy.crs as ccrs\n",
    "import cartopy.feature as cfeature\n",
    "import cartopy.io.shapereader as shpreader\n",
    "import matplotlib.pyplot as plt\n",
    "import pandas as pd\n",
    "from pandas.plotting import scatter_matrix\n",
    "import numpy as np\n",
    "from sklearn.base import BaseEstimator, TransformerMixin\n",
    "from sklearn.compose import ColumnTransformer\n",
    "from sklearn.impute import SimpleImputer\n",
    "from sklearn.ensemble import RandomForestRegressor\n",
    "from sklearn.model_selection import cross_val_score, GridSearchCV, StratifiedShuffleSplit\n",
    "from sklearn.pipeline import Pipeline\n",
    "from sklearn.preprocessing import OneHotEncoder, StandardScaler"
   ]
  },
  {
   "cell_type": "code",
   "execution_count": null,
   "id": "ordinary-phase",
   "metadata": {},
   "outputs": [],
   "source": [
    "%matplotlib inline"
   ]
  },
  {
   "cell_type": "code",
   "execution_count": null,
   "id": "acute-camera",
   "metadata": {},
   "outputs": [],
   "source": [
    "SEED = 51\n",
    "\n",
    "BOOK_FILES_DATASETS_BASE = Path(os.environ.get('BOOK_FILES_DATASETS_BASE'))\n",
    "HOUSING_DATA_PATH = BOOK_FILES_DATASETS_BASE/'housing/housing.csv'"
   ]
  },
  {
   "cell_type": "code",
   "execution_count": null,
   "id": "subtle-reproduction",
   "metadata": {},
   "outputs": [],
   "source": [
    "def load_housing_data(housing_data_path=HOUSING_DATA_PATH):\n",
    "    return pd.read_csv(housing_data_path)"
   ]
  },
  {
   "cell_type": "code",
   "execution_count": null,
   "id": "increased-poison",
   "metadata": {},
   "outputs": [],
   "source": [
    "df_housing = load_housing_data()"
   ]
  },
  {
   "cell_type": "markdown",
   "id": "another-source",
   "metadata": {},
   "source": [
    "# EDA"
   ]
  },
  {
   "cell_type": "code",
   "execution_count": null,
   "id": "private-declaration",
   "metadata": {},
   "outputs": [],
   "source": [
    "df_housing.head()"
   ]
  },
  {
   "cell_type": "code",
   "execution_count": null,
   "id": "simple-outside",
   "metadata": {},
   "outputs": [],
   "source": [
    "df_housing.info()"
   ]
  },
  {
   "cell_type": "code",
   "execution_count": null,
   "id": "north-bernard",
   "metadata": {},
   "outputs": [],
   "source": [
    "df_housing.ocean_proximity.value_counts()"
   ]
  },
  {
   "cell_type": "code",
   "execution_count": null,
   "id": "moderate-generation",
   "metadata": {},
   "outputs": [],
   "source": [
    "df_housing.describe()"
   ]
  },
  {
   "cell_type": "code",
   "execution_count": null,
   "id": "olympic-concrete",
   "metadata": {},
   "outputs": [],
   "source": [
    "df_housing.hist(bins=50, figsize=(20,15), grid=False)\n",
    "plt.show()"
   ]
  },
  {
   "cell_type": "code",
   "execution_count": null,
   "id": "freelance-reduction",
   "metadata": {},
   "outputs": [],
   "source": [
    "df_housing['income_cat'] = pd.cut(\n",
    "    df_housing.median_income,\n",
    "    bins=[0, 1.5, 3, 4.5, 6, np.inf],\n",
    "    labels=[1, 2, 3, 4, 5],\n",
    ")"
   ]
  },
  {
   "cell_type": "code",
   "execution_count": null,
   "id": "hollywood-nature",
   "metadata": {},
   "outputs": [],
   "source": [
    "df_housing.income_cat.hist(grid=False)\n",
    "plt.show()"
   ]
  },
  {
   "cell_type": "code",
   "execution_count": null,
   "id": "unknown-providence",
   "metadata": {},
   "outputs": [],
   "source": [
    "splitter = StratifiedShuffleSplit(n_splits=1, test_size=0.2, random_state=SEED)\n",
    "for train_indices, test_indices in splitter.split(df_housing, df_housing.income_cat):\n",
    "    df_housing_train = df_housing.loc[train_indices]\n",
    "    df_housing_test = df_housing.loc[test_indices]"
   ]
  },
  {
   "cell_type": "code",
   "execution_count": null,
   "id": "split-shape",
   "metadata": {},
   "outputs": [],
   "source": [
    "def get_income_cat_distribution(df):\n",
    "    return df.income_cat.value_counts() / len(df.index)\n",
    "\n",
    "\n",
    "pd.DataFrame({\n",
    "    'raw': get_income_cat_distribution(df_housing),\n",
    "    'train': get_income_cat_distribution(df_housing_train),\n",
    "    'test': get_income_cat_distribution(df_housing_test),\n",
    "})"
   ]
  },
  {
   "cell_type": "code",
   "execution_count": null,
   "id": "above-wilson",
   "metadata": {},
   "outputs": [],
   "source": [
    "df_housing_train = df_housing_train.drop(columns=['income_cat'])\n",
    "df_housing_test = df_housing_test.drop(columns=['income_cat'])"
   ]
  },
  {
   "cell_type": "code",
   "execution_count": null,
   "id": "musical-secret",
   "metadata": {},
   "outputs": [],
   "source": [
    "df_housing_train_copy = df_housing_train.copy()  # For messing around with"
   ]
  },
  {
   "cell_type": "code",
   "execution_count": null,
   "id": "encouraging-addiction",
   "metadata": {},
   "outputs": [],
   "source": [
    "fig = plt.figure(figsize=(10,10))\n",
    "\n",
    "ax = fig.add_axes([0,0,1,1], projection=ccrs.LambertConformal(), frameon=False)\n",
    "\n",
    "ax.set_extent([-125, -113, 32, 43])\n",
    "ax.add_feature(cfeature.OCEAN)\n",
    "ax.add_feature(cfeature.LAND)\n",
    "ax.add_feature(cfeature.RIVERS)\n",
    "ax.add_feature(cfeature.LAKES)\n",
    "\n",
    "shapename = 'admin_1_states_provinces'\n",
    "states_shp = shpreader.natural_earth(\n",
    "    resolution='50m',\n",
    "    category='cultural',\n",
    "    name=shapename,\n",
    ")\n",
    "reader = shpreader.Reader(states_shp)\n",
    "states = reader.records()\n",
    "\n",
    "for state in states:\n",
    "    if state.attributes['name'] == 'California':\n",
    "        ax.add_geometries(state.geometry, ccrs.PlateCarree(), color='w', alpha=0.5)\n",
    "        \n",
    "ax.scatter(\n",
    "    df_housing_train_copy.longitude,\n",
    "    df_housing_train_copy.latitude,\n",
    "    c=df_housing_train_copy.median_house_value,\n",
    "    s=df_housing_train_copy.population/100,\n",
    "    alpha=0.3,\n",
    "    transform=ccrs.PlateCarree(),\n",
    "    zorder=2,\n",
    ")"
   ]
  },
  {
   "cell_type": "code",
   "execution_count": null,
   "id": "consistent-piano",
   "metadata": {},
   "outputs": [],
   "source": [
    "housing_train_corr_matrix = df_housing_train.corr()\n",
    "housing_train_corr_matrix"
   ]
  },
  {
   "cell_type": "code",
   "execution_count": null,
   "id": "respective-unemployment",
   "metadata": {},
   "outputs": [],
   "source": [
    "housing_train_corr_matrix.median_house_value.sort_values(ascending=False)"
   ]
  },
  {
   "cell_type": "code",
   "execution_count": null,
   "id": "serial-magazine",
   "metadata": {},
   "outputs": [],
   "source": [
    "potential_features = ['median_house_value', 'median_income', 'total_rooms', 'housing_median_age']\n",
    "scatter_matrix(df_housing_train[potential_features], figsize=(12,8))\n",
    "plt.show()"
   ]
  },
  {
   "cell_type": "code",
   "execution_count": null,
   "id": "seventh-saver",
   "metadata": {},
   "outputs": [],
   "source": [
    "df_housing_train.plot(kind='scatter', x='median_income', y='median_house_value', alpha=0.3)"
   ]
  },
  {
   "cell_type": "code",
   "execution_count": null,
   "id": "postal-promise",
   "metadata": {},
   "outputs": [],
   "source": [
    "df_housing['rooms_per_houseold'] = df_housing.total_rooms / df_housing.households\n",
    "df_housing['bedrooms_per_room'] = df_housing.total_bedrooms / df_housing.total_rooms\n",
    "df_housing['population_per_household'] = df_housing.population / df_housing.households"
   ]
  },
  {
   "cell_type": "code",
   "execution_count": null,
   "id": "right-ranch",
   "metadata": {},
   "outputs": [],
   "source": [
    "df_housing_corr_matrix = df_housing.corr()\n",
    "df_housing_corr_matrix.median_house_value.abs().sort_values(ascending=False)"
   ]
  },
  {
   "cell_type": "markdown",
   "id": "worthy-pitch",
   "metadata": {},
   "source": [
    "# Modelling"
   ]
  },
  {
   "cell_type": "code",
   "execution_count": null,
   "id": "recognized-mercy",
   "metadata": {},
   "outputs": [],
   "source": [
    "df_housing_train_labels = df_housing_train.median_house_value\n",
    "df_housing_train = df_housing_train.drop(columns=['median_house_value'])"
   ]
  },
  {
   "cell_type": "code",
   "execution_count": null,
   "id": "wound-combining",
   "metadata": {},
   "outputs": [],
   "source": [
    "imputer = SimpleImputer(strategy='median')\n",
    "\n",
    "df_housing_train_numerical = df_housing_train.drop(columns=['ocean_proximity'])\n",
    "\n",
    "imputer.fit(df_housing_train_numerical)"
   ]
  },
  {
   "cell_type": "code",
   "execution_count": null,
   "id": "canadian-wireless",
   "metadata": {},
   "outputs": [],
   "source": [
    "X = imputer.transform(df_housing_train_numerical)\n",
    "df_housing_train_numerical_imputed = pd.DataFrame(\n",
    "    data=X,\n",
    "    columns=df_housing_train_numerical.columns,\n",
    "    index=df_housing_train_numerical.index,\n",
    ")"
   ]
  },
  {
   "cell_type": "code",
   "execution_count": null,
   "id": "cubic-faith",
   "metadata": {},
   "outputs": [],
   "source": [
    "df_housing_train_categorical = df_housing_train[['ocean_proximity']]"
   ]
  },
  {
   "cell_type": "code",
   "execution_count": null,
   "id": "infectious-white",
   "metadata": {},
   "outputs": [],
   "source": [
    "df_housing_train_categorical.head()"
   ]
  },
  {
   "cell_type": "code",
   "execution_count": null,
   "id": "vietnamese-privacy",
   "metadata": {},
   "outputs": [],
   "source": [
    "one_hot_encoder = OneHotEncoder()\n",
    "df_housing_train_categorical_one_hot_encoded = pd.DataFrame(\n",
    "    one_hot_encoder.fit_transform(df_housing_train_categorical).toarray().astype('uint'),\n",
    "    columns=one_hot_encoder.categories_,\n",
    "    index=df_housing_train_categorical.index,\n",
    ")\n",
    "df_housing_train_categorical_one_hot_encoded"
   ]
  },
  {
   "cell_type": "code",
   "execution_count": null,
   "id": "ethical-knock",
   "metadata": {},
   "outputs": [],
   "source": [
    "ROOMS_INDEX = 3\n",
    "BEDROOMS_INDEX = 4\n",
    "POPULATION_INDEX = 5\n",
    "HOUSEHOLDS_INDEX = 6\n",
    "\n",
    "class CombinedAttributesAdder(BaseEstimator, TransformerMixin):\n",
    "    \n",
    "    def __init__(self, add_bedrooms_per_room=True):\n",
    "        self.add_bedrooms_per_room = add_bedrooms_per_room\n",
    "    \n",
    "    def fit(self, X, y=None):\n",
    "        return self  # Nothing else to do\n",
    "    \n",
    "    def transform(self, X):\n",
    "        rooms_per_household = X[:,ROOMS_INDEX] / X[:,HOUSEHOLDS_INDEX]\n",
    "        population_per_household = X[:,POPULATION_INDEX] / X[:,HOUSEHOLDS_INDEX]\n",
    "        if self.add_bedrooms_per_room:\n",
    "            bedrooms_per_room = X[:,BEDROOMS_INDEX] / X[:,ROOMS_INDEX]\n",
    "            return np.c_[X, rooms_per_household, population_per_household, bedrooms_per_room]\n",
    "        else:\n",
    "            return np.c_[X, rooms_per_household, population_per_household]"
   ]
  },
  {
   "cell_type": "code",
   "execution_count": null,
   "id": "private-relief",
   "metadata": {},
   "outputs": [],
   "source": [
    "numerical_attributes = df_housing_train_numerical.columns\n",
    "categorical_attributes = df_housing_train_categorical.columns\n",
    "\n",
    "numerical_pipeline = Pipeline([\n",
    "    ('imputer', SimpleImputer(strategy='median')),\n",
    "    ('attributes_adder', CombinedAttributesAdder()),\n",
    "    ('standard_scaler', StandardScaler()),\n",
    "])\n",
    "\n",
    "categorical_pipeline = Pipeline([\n",
    "    ('one_hot_encoder', OneHotEncoder())\n",
    "])\n",
    "\n",
    "preprocessing_pipeline = ColumnTransformer([\n",
    "    ('numerical', numerical_pipeline, numerical_attributes),\n",
    "    ('categorical', categorical_pipeline, categorical_attributes),\n",
    "])\n",
    "\n",
    "end_to_end_pipeline = Pipeline([\n",
    "    ('preprocessing', preprocessing_pipeline),\n",
    "    ('model', RandomForestRegressor()),\n",
    "])"
   ]
  },
  {
   "cell_type": "code",
   "execution_count": null,
   "id": "popular-dublin",
   "metadata": {},
   "outputs": [],
   "source": [
    "param_grid = [\n",
    "    {'model__n_estimators': [3, 10, 30], 'model__max_features': [2, 4, 6, 8]},\n",
    "    {'model__bootstrap': [False], 'model__n_estimators': [3, 10], 'preprocessing__numerical__attributes_adder__add_bedrooms_per_room': [False]},\n",
    "]\n",
    "\n",
    "grid_search = GridSearchCV(\n",
    "    end_to_end_pipeline, \n",
    "    param_grid, \n",
    "    cv=5, \n",
    "    scoring='neg_mean_squared_error', \n",
    "    return_train_score=True,\n",
    ")"
   ]
  },
  {
   "cell_type": "code",
   "execution_count": null,
   "id": "coated-sheffield",
   "metadata": {},
   "outputs": [],
   "source": [
    "grid_search.fit(df_housing_train, df_housing_train_labels)\n",
    "grid_search.best_estimator_"
   ]
  },
  {
   "cell_type": "code",
   "execution_count": null,
   "id": "crazy-indication",
   "metadata": {},
   "outputs": [],
   "source": []
  }
 ],
 "metadata": {
  "kernelspec": {
   "display_name": "Python 3",
   "language": "python",
   "name": "python3"
  },
  "language_info": {
   "codemirror_mode": {
    "name": "ipython",
    "version": 3
   },
   "file_extension": ".py",
   "mimetype": "text/x-python",
   "name": "python",
   "nbconvert_exporter": "python",
   "pygments_lexer": "ipython3",
   "version": "3.8.5"
  }
 },
 "nbformat": 4,
 "nbformat_minor": 5
}
