{
 "cells": [
  {
   "cell_type": "code",
   "execution_count": null,
   "id": "smart-princess",
   "metadata": {},
   "outputs": [],
   "source": [
    "from pathlib import Path\n",
    "import os\n",
    "\n",
    "import cartopy.crs as ccrs\n",
    "import cartopy.io.shapereader as shpreader\n",
    "import matplotlib.pyplot as plt\n",
    "import pandas as pd\n",
    "import numpy as np\n",
    "from sklearn.model_selection import StratifiedShuffleSplit"
   ]
  },
  {
   "cell_type": "code",
   "execution_count": null,
   "id": "judicial-stomach",
   "metadata": {},
   "outputs": [],
   "source": [
    "%matplotlib inline"
   ]
  },
  {
   "cell_type": "code",
   "execution_count": null,
   "id": "monetary-moderator",
   "metadata": {},
   "outputs": [],
   "source": [
    "SEED = 51\n",
    "\n",
    "BOOK_FILES_DATASETS_BASE = Path(os.environ.get('BOOK_FILES_DATASETS_BASE'))\n",
    "HOUSING_DATA_PATH = BOOK_FILES_DATASETS_BASE/'housing/housing.csv'"
   ]
  },
  {
   "cell_type": "code",
   "execution_count": null,
   "id": "controversial-maker",
   "metadata": {},
   "outputs": [],
   "source": [
    "def load_housing_data(housing_data_path=HOUSING_DATA_PATH):\n",
    "    return pd.read_csv(housing_data_path)"
   ]
  },
  {
   "cell_type": "code",
   "execution_count": null,
   "id": "seasonal-particular",
   "metadata": {},
   "outputs": [],
   "source": [
    "df_housing = load_housing_data()"
   ]
  },
  {
   "cell_type": "code",
   "execution_count": null,
   "id": "continental-clinton",
   "metadata": {},
   "outputs": [],
   "source": [
    "df_housing.head()"
   ]
  },
  {
   "cell_type": "code",
   "execution_count": null,
   "id": "handed-therapy",
   "metadata": {},
   "outputs": [],
   "source": [
    "df_housing.info()"
   ]
  },
  {
   "cell_type": "code",
   "execution_count": null,
   "id": "voluntary-forum",
   "metadata": {},
   "outputs": [],
   "source": [
    "df_housing.ocean_proximity.value_counts()"
   ]
  },
  {
   "cell_type": "code",
   "execution_count": null,
   "id": "brown-headquarters",
   "metadata": {},
   "outputs": [],
   "source": [
    "df_housing.describe()"
   ]
  },
  {
   "cell_type": "code",
   "execution_count": null,
   "id": "balanced-machinery",
   "metadata": {},
   "outputs": [],
   "source": [
    "df_housing.hist(bins=50, figsize=(20,15), grid=False)\n",
    "plt.show()"
   ]
  },
  {
   "cell_type": "code",
   "execution_count": null,
   "id": "dense-airline",
   "metadata": {},
   "outputs": [],
   "source": [
    "df_housing['income_cat'] = pd.cut(\n",
    "    df_housing.median_income,\n",
    "    bins=[0, 1.5, 3, 4.5, 6, np.inf],\n",
    "    labels=[1, 2, 3, 4, 5],\n",
    ")"
   ]
  },
  {
   "cell_type": "code",
   "execution_count": null,
   "id": "eight-telescope",
   "metadata": {},
   "outputs": [],
   "source": [
    "df_housing.income_cat.hist(grid=False)\n",
    "plt.show()"
   ]
  },
  {
   "cell_type": "code",
   "execution_count": null,
   "id": "solid-percentage",
   "metadata": {},
   "outputs": [],
   "source": [
    "splitter = StratifiedShuffleSplit(n_splits=1, test_size=0.2, random_state=SEED)\n",
    "for train_indices, test_indices in splitter.split(df_housing, df_housing.income_cat):\n",
    "    df_housing_train = df_housing.loc[train_indices]\n",
    "    df_housing_test = df_housing.loc[test_indices]"
   ]
  },
  {
   "cell_type": "code",
   "execution_count": null,
   "id": "available-chart",
   "metadata": {},
   "outputs": [],
   "source": [
    "def get_income_cat_distribution(df):\n",
    "    return df.income_cat.value_counts() / len(df.index)\n",
    "\n",
    "\n",
    "pd.DataFrame({\n",
    "    'raw': get_income_cat_distribution(df_housing),\n",
    "    'train': get_income_cat_distribution(df_housing_train),\n",
    "    'test': get_income_cat_distribution(df_housing_test),\n",
    "})"
   ]
  },
  {
   "cell_type": "code",
   "execution_count": null,
   "id": "affected-wagon",
   "metadata": {},
   "outputs": [],
   "source": [
    "df_housing_train = df_housing_train.drop(columns=['income_cat'])\n",
    "df_housing_test = df_housing_test.drop(columns=['income_cat'])"
   ]
  },
  {
   "cell_type": "code",
   "execution_count": null,
   "id": "laughing-slope",
   "metadata": {},
   "outputs": [],
   "source": [
    "df_housing_train_copy = df_housing_train.copy()  # For messing around with"
   ]
  },
  {
   "cell_type": "code",
   "execution_count": null,
   "id": "light-audience",
   "metadata": {},
   "outputs": [],
   "source": [
    "fig = plt.figure(figsize=(10,10))\n",
    "\n",
    "ax = fig.add_axes([0,0,1,1], projection=ccrs.LambertConformal(), frameon=False)\n",
    "\n",
    "ax.set_extent([-125, -113, 32, 43])\n",
    "ax.add_feature(cfeature.OCEAN)\n",
    "ax.add_feature(cfeature.LAND)\n",
    "ax.add_feature(cfeature.RIVERS)\n",
    "ax.add_feature(cfeature.LAKES)\n",
    "\n",
    "shapename = 'admin_1_states_provinces'\n",
    "states_shp = shpreader.natural_earth(\n",
    "    resolution='50m',\n",
    "    category='cultural',\n",
    "    name=shapename,\n",
    ")\n",
    "reader = shpreader.Reader(states_shp)\n",
    "states = reader.records()\n",
    "\n",
    "for state in states:\n",
    "    if state.attributes['name'] == 'California':\n",
    "        ax.add_geometries(state.geometry, ccrs.PlateCarree(), color='w', alpha=0.5)\n",
    "        \n",
    "ax.scatter(\n",
    "    df_housing_train_copy.longitude,\n",
    "    df_housing_train_copy.latitude,\n",
    "    c=df_housing_train_copy.median_house_value,\n",
    "    alpha=0.3,\n",
    "    transform=ccrs.PlateCarree(),\n",
    "    zorder=2,\n",
    ")"
   ]
  },
  {
   "cell_type": "code",
   "execution_count": null,
   "id": "precious-blanket",
   "metadata": {},
   "outputs": [],
   "source": []
  }
 ],
 "metadata": {
  "kernelspec": {
   "display_name": "Python 3",
   "language": "python",
   "name": "python3"
  },
  "language_info": {
   "codemirror_mode": {
    "name": "ipython",
    "version": 3
   },
   "file_extension": ".py",
   "mimetype": "text/x-python",
   "name": "python",
   "nbconvert_exporter": "python",
   "pygments_lexer": "ipython3",
   "version": "3.8.5"
  }
 },
 "nbformat": 4,
 "nbformat_minor": 5
}
