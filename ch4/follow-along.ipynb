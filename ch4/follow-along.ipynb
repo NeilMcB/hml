{
 "cells": [
  {
   "cell_type": "code",
   "execution_count": null,
   "id": "opening-emission",
   "metadata": {},
   "outputs": [],
   "source": [
    "import matplotlib.pyplot as plt\n",
    "import numpy as np\n",
    "from sklearn.linear_model import LinearRegression\n",
    "from sklearn.pipeline import Pipeline\n",
    "from sklearn.preprocessing import PolynomialFeatures"
   ]
  },
  {
   "cell_type": "code",
   "execution_count": null,
   "id": "starting-justice",
   "metadata": {},
   "outputs": [],
   "source": [
    "n = 100\n",
    "# (n,1) to return a 2D array for sklearn\n",
    "X = 6 * np.random.rand(n,1) - 3\n",
    "y = 0.5 * X**2 + X + np.random.randn(n,1)"
   ]
  },
  {
   "cell_type": "code",
   "execution_count": null,
   "id": "adaptive-three",
   "metadata": {},
   "outputs": [],
   "source": [
    "plt.scatter(X, y, alpha=0.8)\n",
    "plt.show()"
   ]
  },
  {
   "cell_type": "code",
   "execution_count": null,
   "id": "grateful-consortium",
   "metadata": {},
   "outputs": [],
   "source": [
    "polynomial_features_d2 = PolynomialFeatures(degree=2, include_bias=False)\n",
    "polynomial_features_d30 = PolynomialFeatures(degree=30, include_bias=False)\n",
    "\n",
    "X_d2 = polynomial_features_d2.fit_transform(X)\n",
    "X_d30 = polynomial_features_d30.fit_transform(X)"
   ]
  },
  {
   "cell_type": "code",
   "execution_count": null,
   "id": "imperial-acceptance",
   "metadata": {},
   "outputs": [],
   "source": [
    "model_d2 = LinearRegression().fit(X_d2, y)\n",
    "model_d30 = LinearRegression().fit(X_d30, y)"
   ]
  },
  {
   "cell_type": "code",
   "execution_count": null,
   "id": "veterinary-height",
   "metadata": {},
   "outputs": [],
   "source": [
    "X_grid = np.linspace(-3, 3, 1_000)[:,np.newaxis]\n",
    "\n",
    "y_grid_d2 = model_d2.predict(polynomial_features_d2.transform(X_grid))\n",
    "y_grid_d30 = model_d30.predict(polynomial_features_d30.transform(X_grid))"
   ]
  },
  {
   "cell_type": "code",
   "execution_count": null,
   "id": "latest-network",
   "metadata": {},
   "outputs": [],
   "source": [
    "plt.scatter(X, y, alpha=0.8)\n",
    "plt.plot(X_grid, y_grid_d2, c='C1')\n",
    "plt.plot(X_grid, y_grid_d30, c='C2')\n",
    "plt.ylim(-3, 12)"
   ]
  },
  {
   "cell_type": "markdown",
   "id": "stable-buying",
   "metadata": {},
   "source": [
    "# Iris"
   ]
  },
  {
   "cell_type": "code",
   "execution_count": null,
   "id": "greatest-printer",
   "metadata": {},
   "outputs": [],
   "source": [
    "import pandas as pd\n",
    "from sklearn import datasets"
   ]
  },
  {
   "cell_type": "code",
   "execution_count": null,
   "id": "removed-minnesota",
   "metadata": {},
   "outputs": [],
   "source": [
    "iris = datasets.load_iris()"
   ]
  },
  {
   "cell_type": "code",
   "execution_count": null,
   "id": "short-latvia",
   "metadata": {},
   "outputs": [],
   "source": [
    "df_iris = pd.DataFrame(data=iris.data, columns=iris.feature_names)"
   ]
  },
  {
   "cell_type": "code",
   "execution_count": null,
   "id": "approved-falls",
   "metadata": {},
   "outputs": [],
   "source": [
    "df_iris"
   ]
  },
  {
   "cell_type": "code",
   "execution_count": null,
   "id": "combined-bones",
   "metadata": {},
   "outputs": [],
   "source": []
  }
 ],
 "metadata": {
  "kernelspec": {
   "display_name": "Python 3",
   "language": "python",
   "name": "python3"
  },
  "language_info": {
   "codemirror_mode": {
    "name": "ipython",
    "version": 3
   },
   "file_extension": ".py",
   "mimetype": "text/x-python",
   "name": "python",
   "nbconvert_exporter": "python",
   "pygments_lexer": "ipython3",
   "version": "3.8.5"
  }
 },
 "nbformat": 4,
 "nbformat_minor": 5
}
