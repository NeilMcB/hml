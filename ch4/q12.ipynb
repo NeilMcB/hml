{
 "cells": [
  {
   "cell_type": "code",
   "execution_count": null,
   "id": "descending-bikini",
   "metadata": {},
   "outputs": [],
   "source": [
    "import matplotlib.pyplot as plt\n",
    "import numpy as np\n",
    "from sklearn.datasets import load_digits\n",
    "from sklearn.model_selection import train_test_split\n",
    "from sklearn.preprocessing import OneHotEncoder"
   ]
  },
  {
   "cell_type": "markdown",
   "id": "canadian-valuation",
   "metadata": {},
   "source": [
    "# Data"
   ]
  },
  {
   "cell_type": "code",
   "execution_count": null,
   "id": "clean-marriage",
   "metadata": {},
   "outputs": [],
   "source": [
    "mnist = load_digits()"
   ]
  },
  {
   "cell_type": "code",
   "execution_count": null,
   "id": "coupled-scheduling",
   "metadata": {},
   "outputs": [],
   "source": [
    "X = mnist.data\n",
    "y = mnist.target"
   ]
  },
  {
   "cell_type": "code",
   "execution_count": null,
   "id": "australian-judgment",
   "metadata": {},
   "outputs": [],
   "source": [
    "ohe = OneHotEncoder()\n",
    "y = ohe.fit_transform(y[:,np.newaxis]).toarray()"
   ]
  },
  {
   "cell_type": "code",
   "execution_count": null,
   "id": "basic-eleven",
   "metadata": {},
   "outputs": [],
   "source": [
    "X_train, X_val, y_train, y_val = train_test_split(X, y, test_size=0.2)"
   ]
  },
  {
   "cell_type": "markdown",
   "id": "approximate-hunger",
   "metadata": {},
   "source": [
    "# Algorithm"
   ]
  },
  {
   "cell_type": "code",
   "execution_count": null,
   "id": "endangered-springfield",
   "metadata": {},
   "outputs": [],
   "source": [
    "def predict_probabilities(X, Theta):\n",
    "    activation = X.dot(Theta)\n",
    "    numerator = np.exp(activation - activation.max(axis=1)[:,np.newaxis])\n",
    "    denominator = numerator.sum(axis=0)\n",
    "    return (numerator / denominator)\n",
    "\n",
    "def cost(X, y, Theta, epsilon=1e-8):\n",
    "    P = predict_probabilities(X, Theta)\n",
    "    return -np.log(P * y  + epsilon).sum() / X.shape[0]\n",
    "\n",
    "def accuracy(X, y, theta):\n",
    "    predictions = predict_probabilities(X, theta).argmax(axis=1)\n",
    "    ground_truth = y.argmax(axis=1)\n",
    "    n_correct = (predictions == ground_truth).sum()\n",
    "    return n_correct / X.shape[0]\n",
    "\n",
    "def gradient(X, y, Theta):\n",
    "    Grad = np.zeros(Theta.shape)\n",
    "    P = predict_probabilities(X, Theta)\n",
    "    \n",
    "    return -(X.T.dot(y - P))"
   ]
  },
  {
   "cell_type": "code",
   "execution_count": null,
   "id": "strange-steel",
   "metadata": {},
   "outputs": [],
   "source": [
    "n_iterations = 10\n",
    "learning_rate = 0.001\n",
    "Theta = np.random.randn(X_train.shape[1], y_train.shape[1])\n",
    "\n",
    "print(f'Epoch {0:2} of {n_iterations}')\n",
    "print('\\tCosts:')\n",
    "print(f'\\t\\tTrain={cost(X_train, y_train, Theta):.2f}')\n",
    "print(f'\\t\\t  Val={cost(X_val, y_val, Theta):.2f}')\n",
    "print('\\tAccuracies:')\n",
    "print(f'\\t\\tTrain={accuracy(X_train, y_train, Theta):.2f}')\n",
    "print(f'\\t\\t  Val={accuracy(X_val, y_val, Theta):.2f}')\n",
    "print()\n",
    "\n",
    "for i in range(n_iterations):\n",
    "    Theta = Theta - learning_rate * gradient(X_train, y_train, Theta)\n",
    "    \n",
    "    if i % 1 == 0:\n",
    "        print(f'Epoch {i+1:2} of {n_iterations}')\n",
    "        print('\\tCosts:')\n",
    "        print(f'\\t\\tTrain={cost(X_train, y_train, Theta):.2f}')\n",
    "        print(f'\\t\\t  Val={cost(X_val, y_val, Theta):.2f}')\n",
    "        print('\\tAccuracies:')\n",
    "        print(f'\\t\\tTrain={accuracy(X_train, y_train, Theta):.2f}')\n",
    "        print(f'\\t\\t  Val={accuracy(X_val, y_val, Theta):.2f}')\n",
    "        print()"
   ]
  }
 ],
 "metadata": {
  "kernelspec": {
   "display_name": "Python 3",
   "language": "python",
   "name": "python3"
  },
  "language_info": {
   "codemirror_mode": {
    "name": "ipython",
    "version": 3
   },
   "file_extension": ".py",
   "mimetype": "text/x-python",
   "name": "python",
   "nbconvert_exporter": "python",
   "pygments_lexer": "ipython3",
   "version": "3.8.5"
  }
 },
 "nbformat": 4,
 "nbformat_minor": 5
}
