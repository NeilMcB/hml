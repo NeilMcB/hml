{
 "cells": [
  {
   "cell_type": "code",
   "execution_count": null,
   "id": "liberal-novel",
   "metadata": {},
   "outputs": [],
   "source": [
    "import matplotlib.pyplot as plt\n",
    "import numpy as np\n",
    "from sklearn.cluster import KMeans\n",
    "from sklearn.datasets import fetch_olivetti_faces\n",
    "from sklearn.metrics import silhouette_score\n",
    "from sklearn.model_selection import StratifiedShuffleSplit"
   ]
  },
  {
   "cell_type": "code",
   "execution_count": null,
   "id": "active-medline",
   "metadata": {},
   "outputs": [],
   "source": [
    "X, y = fetch_olivetti_faces(return_X_y=True)"
   ]
  },
  {
   "cell_type": "code",
   "execution_count": null,
   "id": "seasonal-november",
   "metadata": {},
   "outputs": [],
   "source": [
    "plt.imshow(X[1,:].reshape(64,64), cmap='binary_r')"
   ]
  },
  {
   "cell_type": "code",
   "execution_count": null,
   "id": "architectural-monster",
   "metadata": {},
   "outputs": [],
   "source": [
    "splitter = StratifiedShuffleSplit(n_splits=1, test_size=0.2)\n",
    "\n",
    "train_idxs, test_idxs = list(splitter.split(X, y))[0]\n",
    "\n",
    "X_test, y_test = X[test_idxs,:], y[test_idxs]\n",
    "X_train, y_train = X[train_idxs,:], y[train_idxs]\n",
    "\n",
    "train_idxs, val_idxs = list(splitter.split(X_train, y_train))[0]\n",
    "\n",
    "X_val, y_val = X_train[val_idxs,:], y_train[val_idxs]\n",
    "X_train, y_train = X_train[train_idxs,:], y_train[train_idxs]"
   ]
  },
  {
   "cell_type": "code",
   "execution_count": null,
   "id": "continental-statement",
   "metadata": {},
   "outputs": [],
   "source": [
    "models = {}\n",
    "scores = {}\n",
    "for k in range(2,30):\n",
    "    kmeans = KMeans(n_clusters=k)\n",
    "    kmeans.fit(X_train)\n",
    "    \n",
    "    models[k] = kmeans\n",
    "    scores[k] = silhouette_score(X_train, kmeans.labels_)"
   ]
  },
  {
   "cell_type": "code",
   "execution_count": null,
   "id": "every-franklin",
   "metadata": {},
   "outputs": [],
   "source": [
    "plt.plot(scores.keys(), scores.values())"
   ]
  },
  {
   "cell_type": "code",
   "execution_count": null,
   "id": "colored-netherlands",
   "metadata": {},
   "outputs": [],
   "source": [
    "k_best = list(scores.keys())[np.argmin(list(scores.values()))]  # This is stupid\n",
    "model_best = models[k_best]"
   ]
  },
  {
   "cell_type": "code",
   "execution_count": null,
   "id": "smoking-porter",
   "metadata": {},
   "outputs": [],
   "source": [
    "n_samples_per_cluster = 3\n",
    "fig, axs = plt.subplots(nrows=k_best, ncols=n_samples_per_cluster, figsize=(4*n_samples_per_cluster,4*k_best))\n",
    "\n",
    "for k in range(model_best.n_clusters):\n",
    "    X_in_cluster = X[y==k,:]\n",
    "    \n",
    "    n_samples_in_cluster = min(n_samples_per_cluster, X_in_cluster.shape[0])\n",
    "    X_in_cluster_sample = X_in_cluster[:n_samples_in_cluster,:]\n",
    "    \n",
    "    for i in range(n_samples_in_cluster):\n",
    "        axs[k,i].imshow(X_in_cluster_sample[i,:].reshape(64,64), cmap='binary_r')"
   ]
  },
  {
   "cell_type": "code",
   "execution_count": null,
   "id": "equipped-symbol",
   "metadata": {},
   "outputs": [],
   "source": []
  }
 ],
 "metadata": {
  "kernelspec": {
   "display_name": "Python 3",
   "language": "python",
   "name": "python3"
  },
  "language_info": {
   "codemirror_mode": {
    "name": "ipython",
    "version": 3
   },
   "file_extension": ".py",
   "mimetype": "text/x-python",
   "name": "python",
   "nbconvert_exporter": "python",
   "pygments_lexer": "ipython3",
   "version": "3.8.5"
  }
 },
 "nbformat": 4,
 "nbformat_minor": 5
}
